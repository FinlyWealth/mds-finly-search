{
 "cells": [
  {
   "cell_type": "code",
   "execution_count": 1,
   "metadata": {},
   "outputs": [
    {
     "name": "stderr",
     "output_type": "stream",
     "text": [
      "/Users/jchang/miniforge3/envs/finly/lib/python3.11/site-packages/tqdm/auto.py:21: TqdmWarning: IProgress not found. Please update jupyter and ipywidgets. See https://ipywidgets.readthedocs.io/en/stable/user_install.html\n",
      "  from .autonotebook import tqdm as notebook_tqdm\n"
     ]
    }
   ],
   "source": [
    "import numpy as np\n",
    "import plotly.express as px\n",
    "import plotly.graph_objects as go\n",
    "from sklearn.decomposition import PCA\n",
    "import faiss\n",
    "import os\n",
    "from tqdm import tqdm\n",
    "import sys\n",
    "sys.path.append('../src/backend')\n",
    "from embedding import generate_embedding\n",
    "import pandas as pd"
   ]
  },
  {
   "cell_type": "code",
   "execution_count": 2,
   "metadata": {},
   "outputs": [],
   "source": [
    "def load_chunked_embeddings(embeddings_dir):\n",
    "    \"\"\"\n",
    "    Load embeddings from chunked NPZ files.\n",
    "    \n",
    "    Args:\n",
    "        embeddings_dir: Path to directory containing NPZ files\n",
    "        \n",
    "    Returns:\n",
    "        tuple: (embeddings array, product_ids array)\n",
    "    \"\"\"\n",
    "    # Find all NPZ files\n",
    "    npz_files = sorted([f for f in os.listdir(embeddings_dir) \n",
    "                       if f.startswith('fusion_embeddings_chunk_') and f.endswith('.npz')])\n",
    "    \n",
    "    all_embeddings = []\n",
    "    all_pids = []\n",
    "    \n",
    "    print(\"Loading embeddings from chunks...\")\n",
    "    for npz_file in tqdm(npz_files):\n",
    "        file_path = os.path.join(embeddings_dir, npz_file)\n",
    "        data = np.load(file_path)\n",
    "        all_embeddings.append(data['embeddings'])\n",
    "        all_pids.extend(data['product_ids'])\n",
    "    \n",
    "    # Concatenate all embeddings\n",
    "    embeddings = np.vstack(all_embeddings)\n",
    "    return embeddings, np.array(all_pids)"
   ]
  },
  {
   "cell_type": "code",
   "execution_count": 7,
   "metadata": {},
   "outputs": [],
   "source": [
    "def visualize_query_clusters(index: faiss.IndexIVFFlat,\n",
    "                           embeddings: np.ndarray,\n",
    "                           query_text: str,\n",
    "                           pids: np.ndarray,\n",
    "                           df: pd.DataFrame,\n",
    "                           nprobe: int = 1,\n",
    "                           top_k: int = 5):\n",
    "    \"\"\"\n",
    "    Visualize clusters visited during query search and their top k closest points.\n",
    "    \n",
    "    Args:\n",
    "        index: FAISS IndexIVFFlat (trained + populated).\n",
    "        embeddings: (N, D) L2-normalized array of all your item vectors.\n",
    "        query_text: the text to embed and query.\n",
    "        pids: (N,) array of product IDs, aligned with embeddings.\n",
    "        df: DataFrame with at least ['Pid','Name'] columns.\n",
    "        nprobe: how many IVF centroids to visit.\n",
    "        top_k: how many points per cluster to show.\n",
    "    \"\"\"\n",
    "    # 1) Embed the query and set nprobe\n",
    "    qv = generate_embedding(query_text).astype('float32')\n",
    "    index.nprobe = nprobe\n",
    "\n",
    "    # 2) Get the top-nprobe clusters for the query\n",
    "    _, cluster_ids = index.quantizer.search(qv.reshape(1, -1), nprobe)\n",
    "    cluster_ids = cluster_ids[0]\n",
    "\n",
    "    # 3) Get top k results directly from FAISS\n",
    "    distances, indices = index.search(qv.reshape(1, -1), top_k * nprobe)\n",
    "    distances = distances[0]\n",
    "    indices = indices[0]\n",
    "\n",
    "    # 4) Get cluster assignments for only the retrieved points\n",
    "    _, assigned = index.quantizer.search(embeddings[indices], 1)\n",
    "    assigned = assigned.flatten()\n",
    "\n",
    "    records = []\n",
    "    for idx, (dist, cluster_id) in enumerate(zip(distances, assigned)):\n",
    "        if idx >= top_k * nprobe:\n",
    "            break\n",
    "            \n",
    "        records.append({\n",
    "            'pid': pids[indices[idx]],\n",
    "            'cluster': f\"Cluster {cluster_id}\",\n",
    "            'distance': float(embeddings[indices[idx]].dot(qv))\n",
    "        })\n",
    "\n",
    "    if not records:\n",
    "        print(\"🚫 No points found in the visited clusters!\")\n",
    "        return None\n",
    "\n",
    "    # 5) Build result DataFrame + join names\n",
    "    result_df = pd.DataFrame(records)\n",
    "    name_map = df.set_index('Pid')['Name'].to_dict()\n",
    "    result_df['name'] = result_df['pid'].map(name_map)\n",
    "\n",
    "    # 6) PCA on just the selected points + query\n",
    "    pts = embeddings[indices[:len(records)]]\n",
    "    all_pts = np.vstack([pts, qv])\n",
    "    pca = PCA(n_components=2)\n",
    "    pts2d = pca.fit_transform(all_pts)\n",
    "\n",
    "    # assign back into DataFrame\n",
    "    result_df[['x','y']] = pts2d[:-1]\n",
    "    qx, qy = pts2d[-1]\n",
    "\n",
    "    # 7) Plot with Plotly\n",
    "    fig = px.scatter(\n",
    "        result_df,\n",
    "        x='x', y='y',\n",
    "        color='cluster',\n",
    "        size='distance',\n",
    "        hover_name='name',\n",
    "        title=f\"Top {top_k} in {nprobe} Clusters for {query_text}\",\n",
    "        labels={'x':'PCA 1','y':'PCA 2'},\n",
    "        opacity=0.75,\n",
    "        hover_data={'x': False, 'y': False}  # Hide x and y coordinates from tooltip\n",
    "    )\n",
    "    fig.add_trace(go.Scatter(\n",
    "        x=[qx], y=[qy],\n",
    "        mode='markers',\n",
    "        marker=dict(symbol='diamond', size=15, color='red'),\n",
    "        name='Query',\n",
    "        hovertemplate=query_text + '<extra></extra>'\n",
    "    ))\n",
    "    fig.update_layout(showlegend=True)\n",
    "    return fig"
   ]
  },
  {
   "cell_type": "code",
   "execution_count": 8,
   "metadata": {},
   "outputs": [
    {
     "name": "stdout",
     "output_type": "stream",
     "text": [
      "Loading embeddings from chunks...\n"
     ]
    },
    {
     "name": "stderr",
     "output_type": "stream",
     "text": [
      "100%|██████████| 2/2 [00:02<00:00,  1.11s/it]\n"
     ]
    },
    {
     "data": {
      "application/vnd.plotly.v1+json": {
       "config": {
        "plotlyServerURL": "https://plot.ly"
       },
       "data": [
        {
         "hovertemplate": "<b>%{hovertext}</b><br><br>cluster=Cluster 2492<br>distance=%{marker.size}<extra></extra>",
         "hovertext": [
          "Sneakers Runner",
          "Runner Sneakers",
          "Running Shoes [first edition]",
          "Running Shoes",
          "Runner Sneakers"
         ],
         "legendgroup": "Cluster 2492",
         "marker": {
          "color": "#636efa",
          "opacity": 0.75,
          "size": {
           "bdata": "AAAAoOFe6T8AAAAAXcLpPwAAAACVv+o/AAAAoLpx6z8AAADgXMLpPw==",
           "dtype": "f8"
          },
          "sizemode": "area",
          "sizeref": 0.002144082337617874,
          "symbol": "circle"
         },
         "mode": "markers",
         "name": "Cluster 2492",
         "orientation": "v",
         "showlegend": true,
         "type": "scatter",
         "x": {
          "bdata": "SNloPnv4gj7MABs/SoEaP3n4gj4=",
          "dtype": "f4"
         },
         "xaxis": "x",
         "y": {
          "bdata": "E1/VvuKB2b7JTAE/fPAAP9+B2b4=",
          "dtype": "f4"
         },
         "yaxis": "y"
        },
        {
         "hovertemplate": "<b>%{hovertext}</b><br><br>cluster=Cluster 1034<br>distance=%{marker.size}<extra></extra>",
         "hovertext": [
          "Men's UA Infinite Elite Running Shoes",
          "Men's UA Infinite Elite Running Shoes",
          "Men's UA Infinite Elite Running Shoes",
          "$33.95 for Breathable Running Shoes (a $99 Value)",
          "Marathon Runner Sneakers"
         ],
         "legendgroup": "Cluster 1034",
         "marker": {
          "color": "#EF553B",
          "opacity": 0.75,
          "size": {
           "bdata": "AAAAQAvL6D8AAADA9PHoPwAAAMD08eg/AAAAwAt06T8AAADgMxTpPw==",
           "dtype": "f8"
          },
          "sizemode": "area",
          "sizeref": 0.002144082337617874,
          "symbol": "circle"
         },
         "mode": "markers",
         "name": "Cluster 1034",
         "orientation": "v",
         "showlegend": true,
         "type": "scatter",
         "x": {
          "bdata": "ixjevrlf5r65X+a+quF8vbv7Iz4=",
          "dtype": "f4"
         },
         "xaxis": "x",
         "y": {
          "bdata": "624TPpMwAj6TMAI+QNEyvWcgy74=",
          "dtype": "f4"
         },
         "yaxis": "y"
        },
        {
         "hovertemplate": "<b>%{hovertext}</b><br><br>cluster=Cluster 3489<br>distance=%{marker.size}<extra></extra>",
         "hovertext": [
          "Women's Nike Interact Run Running Shoes 8 Regular College Navy/Mtlc Red Bronze-Cerulean",
          "Women's UA Infinite Elite Running Shoes",
          "Women's UA Infinite Elite Running Shoes",
          "Girls' Grade School UA Assert 10 Running Shoes",
          "Runner Sneakers"
         ],
         "legendgroup": "Cluster 3489",
         "marker": {
          "color": "#00cc96",
          "opacity": 0.75,
          "size": {
           "bdata": "AAAAAIu46D8AAABAJ+XoPwAAAACT6+g/AAAAAD8n6T8AAAAgCN7pPw==",
           "dtype": "f8"
          },
          "sizemode": "area",
          "sizeref": 0.002144082337617874,
          "symbol": "circle"
         },
         "mode": "markers",
         "name": "Cluster 3489",
         "orientation": "v",
         "showlegend": true,
         "type": "scatter",
         "x": {
          "bdata": "kLojvhmz4b6lxty+bXoLvhL+Iz4=",
          "dtype": "f4"
         },
         "xaxis": "x",
         "y": {
          "bdata": "85EbO686Gz4yZMU9AjofPUcfwb4=",
          "dtype": "f4"
         },
         "yaxis": "y"
        },
        {
         "hovertemplate": "comfortable shoes for running<extra></extra>",
         "marker": {
          "color": "red",
          "size": 15,
          "symbol": "diamond"
         },
         "mode": "markers",
         "name": "Query",
         "type": "scatter",
         "x": [
          0.295240193605423
         ],
         "y": [
          0.38773539662361145
         ]
        }
       ],
       "layout": {
        "legend": {
         "itemsizing": "constant",
         "title": {
          "text": "cluster"
         },
         "tracegroupgap": 0
        },
        "showlegend": true,
        "template": {
         "data": {
          "bar": [
           {
            "error_x": {
             "color": "#2a3f5f"
            },
            "error_y": {
             "color": "#2a3f5f"
            },
            "marker": {
             "line": {
              "color": "#E5ECF6",
              "width": 0.5
             },
             "pattern": {
              "fillmode": "overlay",
              "size": 10,
              "solidity": 0.2
             }
            },
            "type": "bar"
           }
          ],
          "barpolar": [
           {
            "marker": {
             "line": {
              "color": "#E5ECF6",
              "width": 0.5
             },
             "pattern": {
              "fillmode": "overlay",
              "size": 10,
              "solidity": 0.2
             }
            },
            "type": "barpolar"
           }
          ],
          "carpet": [
           {
            "aaxis": {
             "endlinecolor": "#2a3f5f",
             "gridcolor": "white",
             "linecolor": "white",
             "minorgridcolor": "white",
             "startlinecolor": "#2a3f5f"
            },
            "baxis": {
             "endlinecolor": "#2a3f5f",
             "gridcolor": "white",
             "linecolor": "white",
             "minorgridcolor": "white",
             "startlinecolor": "#2a3f5f"
            },
            "type": "carpet"
           }
          ],
          "choropleth": [
           {
            "colorbar": {
             "outlinewidth": 0,
             "ticks": ""
            },
            "type": "choropleth"
           }
          ],
          "contour": [
           {
            "colorbar": {
             "outlinewidth": 0,
             "ticks": ""
            },
            "colorscale": [
             [
              0,
              "#0d0887"
             ],
             [
              0.1111111111111111,
              "#46039f"
             ],
             [
              0.2222222222222222,
              "#7201a8"
             ],
             [
              0.3333333333333333,
              "#9c179e"
             ],
             [
              0.4444444444444444,
              "#bd3786"
             ],
             [
              0.5555555555555556,
              "#d8576b"
             ],
             [
              0.6666666666666666,
              "#ed7953"
             ],
             [
              0.7777777777777778,
              "#fb9f3a"
             ],
             [
              0.8888888888888888,
              "#fdca26"
             ],
             [
              1,
              "#f0f921"
             ]
            ],
            "type": "contour"
           }
          ],
          "contourcarpet": [
           {
            "colorbar": {
             "outlinewidth": 0,
             "ticks": ""
            },
            "type": "contourcarpet"
           }
          ],
          "heatmap": [
           {
            "colorbar": {
             "outlinewidth": 0,
             "ticks": ""
            },
            "colorscale": [
             [
              0,
              "#0d0887"
             ],
             [
              0.1111111111111111,
              "#46039f"
             ],
             [
              0.2222222222222222,
              "#7201a8"
             ],
             [
              0.3333333333333333,
              "#9c179e"
             ],
             [
              0.4444444444444444,
              "#bd3786"
             ],
             [
              0.5555555555555556,
              "#d8576b"
             ],
             [
              0.6666666666666666,
              "#ed7953"
             ],
             [
              0.7777777777777778,
              "#fb9f3a"
             ],
             [
              0.8888888888888888,
              "#fdca26"
             ],
             [
              1,
              "#f0f921"
             ]
            ],
            "type": "heatmap"
           }
          ],
          "histogram": [
           {
            "marker": {
             "pattern": {
              "fillmode": "overlay",
              "size": 10,
              "solidity": 0.2
             }
            },
            "type": "histogram"
           }
          ],
          "histogram2d": [
           {
            "colorbar": {
             "outlinewidth": 0,
             "ticks": ""
            },
            "colorscale": [
             [
              0,
              "#0d0887"
             ],
             [
              0.1111111111111111,
              "#46039f"
             ],
             [
              0.2222222222222222,
              "#7201a8"
             ],
             [
              0.3333333333333333,
              "#9c179e"
             ],
             [
              0.4444444444444444,
              "#bd3786"
             ],
             [
              0.5555555555555556,
              "#d8576b"
             ],
             [
              0.6666666666666666,
              "#ed7953"
             ],
             [
              0.7777777777777778,
              "#fb9f3a"
             ],
             [
              0.8888888888888888,
              "#fdca26"
             ],
             [
              1,
              "#f0f921"
             ]
            ],
            "type": "histogram2d"
           }
          ],
          "histogram2dcontour": [
           {
            "colorbar": {
             "outlinewidth": 0,
             "ticks": ""
            },
            "colorscale": [
             [
              0,
              "#0d0887"
             ],
             [
              0.1111111111111111,
              "#46039f"
             ],
             [
              0.2222222222222222,
              "#7201a8"
             ],
             [
              0.3333333333333333,
              "#9c179e"
             ],
             [
              0.4444444444444444,
              "#bd3786"
             ],
             [
              0.5555555555555556,
              "#d8576b"
             ],
             [
              0.6666666666666666,
              "#ed7953"
             ],
             [
              0.7777777777777778,
              "#fb9f3a"
             ],
             [
              0.8888888888888888,
              "#fdca26"
             ],
             [
              1,
              "#f0f921"
             ]
            ],
            "type": "histogram2dcontour"
           }
          ],
          "mesh3d": [
           {
            "colorbar": {
             "outlinewidth": 0,
             "ticks": ""
            },
            "type": "mesh3d"
           }
          ],
          "parcoords": [
           {
            "line": {
             "colorbar": {
              "outlinewidth": 0,
              "ticks": ""
             }
            },
            "type": "parcoords"
           }
          ],
          "pie": [
           {
            "automargin": true,
            "type": "pie"
           }
          ],
          "scatter": [
           {
            "fillpattern": {
             "fillmode": "overlay",
             "size": 10,
             "solidity": 0.2
            },
            "type": "scatter"
           }
          ],
          "scatter3d": [
           {
            "line": {
             "colorbar": {
              "outlinewidth": 0,
              "ticks": ""
             }
            },
            "marker": {
             "colorbar": {
              "outlinewidth": 0,
              "ticks": ""
             }
            },
            "type": "scatter3d"
           }
          ],
          "scattercarpet": [
           {
            "marker": {
             "colorbar": {
              "outlinewidth": 0,
              "ticks": ""
             }
            },
            "type": "scattercarpet"
           }
          ],
          "scattergeo": [
           {
            "marker": {
             "colorbar": {
              "outlinewidth": 0,
              "ticks": ""
             }
            },
            "type": "scattergeo"
           }
          ],
          "scattergl": [
           {
            "marker": {
             "colorbar": {
              "outlinewidth": 0,
              "ticks": ""
             }
            },
            "type": "scattergl"
           }
          ],
          "scattermap": [
           {
            "marker": {
             "colorbar": {
              "outlinewidth": 0,
              "ticks": ""
             }
            },
            "type": "scattermap"
           }
          ],
          "scattermapbox": [
           {
            "marker": {
             "colorbar": {
              "outlinewidth": 0,
              "ticks": ""
             }
            },
            "type": "scattermapbox"
           }
          ],
          "scatterpolar": [
           {
            "marker": {
             "colorbar": {
              "outlinewidth": 0,
              "ticks": ""
             }
            },
            "type": "scatterpolar"
           }
          ],
          "scatterpolargl": [
           {
            "marker": {
             "colorbar": {
              "outlinewidth": 0,
              "ticks": ""
             }
            },
            "type": "scatterpolargl"
           }
          ],
          "scatterternary": [
           {
            "marker": {
             "colorbar": {
              "outlinewidth": 0,
              "ticks": ""
             }
            },
            "type": "scatterternary"
           }
          ],
          "surface": [
           {
            "colorbar": {
             "outlinewidth": 0,
             "ticks": ""
            },
            "colorscale": [
             [
              0,
              "#0d0887"
             ],
             [
              0.1111111111111111,
              "#46039f"
             ],
             [
              0.2222222222222222,
              "#7201a8"
             ],
             [
              0.3333333333333333,
              "#9c179e"
             ],
             [
              0.4444444444444444,
              "#bd3786"
             ],
             [
              0.5555555555555556,
              "#d8576b"
             ],
             [
              0.6666666666666666,
              "#ed7953"
             ],
             [
              0.7777777777777778,
              "#fb9f3a"
             ],
             [
              0.8888888888888888,
              "#fdca26"
             ],
             [
              1,
              "#f0f921"
             ]
            ],
            "type": "surface"
           }
          ],
          "table": [
           {
            "cells": {
             "fill": {
              "color": "#EBF0F8"
             },
             "line": {
              "color": "white"
             }
            },
            "header": {
             "fill": {
              "color": "#C8D4E3"
             },
             "line": {
              "color": "white"
             }
            },
            "type": "table"
           }
          ]
         },
         "layout": {
          "annotationdefaults": {
           "arrowcolor": "#2a3f5f",
           "arrowhead": 0,
           "arrowwidth": 1
          },
          "autotypenumbers": "strict",
          "coloraxis": {
           "colorbar": {
            "outlinewidth": 0,
            "ticks": ""
           }
          },
          "colorscale": {
           "diverging": [
            [
             0,
             "#8e0152"
            ],
            [
             0.1,
             "#c51b7d"
            ],
            [
             0.2,
             "#de77ae"
            ],
            [
             0.3,
             "#f1b6da"
            ],
            [
             0.4,
             "#fde0ef"
            ],
            [
             0.5,
             "#f7f7f7"
            ],
            [
             0.6,
             "#e6f5d0"
            ],
            [
             0.7,
             "#b8e186"
            ],
            [
             0.8,
             "#7fbc41"
            ],
            [
             0.9,
             "#4d9221"
            ],
            [
             1,
             "#276419"
            ]
           ],
           "sequential": [
            [
             0,
             "#0d0887"
            ],
            [
             0.1111111111111111,
             "#46039f"
            ],
            [
             0.2222222222222222,
             "#7201a8"
            ],
            [
             0.3333333333333333,
             "#9c179e"
            ],
            [
             0.4444444444444444,
             "#bd3786"
            ],
            [
             0.5555555555555556,
             "#d8576b"
            ],
            [
             0.6666666666666666,
             "#ed7953"
            ],
            [
             0.7777777777777778,
             "#fb9f3a"
            ],
            [
             0.8888888888888888,
             "#fdca26"
            ],
            [
             1,
             "#f0f921"
            ]
           ],
           "sequentialminus": [
            [
             0,
             "#0d0887"
            ],
            [
             0.1111111111111111,
             "#46039f"
            ],
            [
             0.2222222222222222,
             "#7201a8"
            ],
            [
             0.3333333333333333,
             "#9c179e"
            ],
            [
             0.4444444444444444,
             "#bd3786"
            ],
            [
             0.5555555555555556,
             "#d8576b"
            ],
            [
             0.6666666666666666,
             "#ed7953"
            ],
            [
             0.7777777777777778,
             "#fb9f3a"
            ],
            [
             0.8888888888888888,
             "#fdca26"
            ],
            [
             1,
             "#f0f921"
            ]
           ]
          },
          "colorway": [
           "#636efa",
           "#EF553B",
           "#00cc96",
           "#ab63fa",
           "#FFA15A",
           "#19d3f3",
           "#FF6692",
           "#B6E880",
           "#FF97FF",
           "#FECB52"
          ],
          "font": {
           "color": "#2a3f5f"
          },
          "geo": {
           "bgcolor": "white",
           "lakecolor": "white",
           "landcolor": "#E5ECF6",
           "showlakes": true,
           "showland": true,
           "subunitcolor": "white"
          },
          "hoverlabel": {
           "align": "left"
          },
          "hovermode": "closest",
          "mapbox": {
           "style": "light"
          },
          "paper_bgcolor": "white",
          "plot_bgcolor": "#E5ECF6",
          "polar": {
           "angularaxis": {
            "gridcolor": "white",
            "linecolor": "white",
            "ticks": ""
           },
           "bgcolor": "#E5ECF6",
           "radialaxis": {
            "gridcolor": "white",
            "linecolor": "white",
            "ticks": ""
           }
          },
          "scene": {
           "xaxis": {
            "backgroundcolor": "#E5ECF6",
            "gridcolor": "white",
            "gridwidth": 2,
            "linecolor": "white",
            "showbackground": true,
            "ticks": "",
            "zerolinecolor": "white"
           },
           "yaxis": {
            "backgroundcolor": "#E5ECF6",
            "gridcolor": "white",
            "gridwidth": 2,
            "linecolor": "white",
            "showbackground": true,
            "ticks": "",
            "zerolinecolor": "white"
           },
           "zaxis": {
            "backgroundcolor": "#E5ECF6",
            "gridcolor": "white",
            "gridwidth": 2,
            "linecolor": "white",
            "showbackground": true,
            "ticks": "",
            "zerolinecolor": "white"
           }
          },
          "shapedefaults": {
           "line": {
            "color": "#2a3f5f"
           }
          },
          "ternary": {
           "aaxis": {
            "gridcolor": "white",
            "linecolor": "white",
            "ticks": ""
           },
           "baxis": {
            "gridcolor": "white",
            "linecolor": "white",
            "ticks": ""
           },
           "bgcolor": "#E5ECF6",
           "caxis": {
            "gridcolor": "white",
            "linecolor": "white",
            "ticks": ""
           }
          },
          "title": {
           "x": 0.05
          },
          "xaxis": {
           "automargin": true,
           "gridcolor": "white",
           "linecolor": "white",
           "ticks": "",
           "title": {
            "standoff": 15
           },
           "zerolinecolor": "white",
           "zerolinewidth": 2
          },
          "yaxis": {
           "automargin": true,
           "gridcolor": "white",
           "linecolor": "white",
           "ticks": "",
           "title": {
            "standoff": 15
           },
           "zerolinecolor": "white",
           "zerolinewidth": 2
          }
         }
        },
        "title": {
         "text": "Top 5 in 3 Clusters for comfortable shoes for running"
        },
        "xaxis": {
         "anchor": "y",
         "domain": [
          0,
          1
         ],
         "title": {
          "text": "PCA 1"
         }
        },
        "yaxis": {
         "anchor": "x",
         "domain": [
          0,
          1
         ],
         "title": {
          "text": "PCA 2"
         }
        }
       }
      }
     },
     "metadata": {},
     "output_type": "display_data"
    }
   ],
   "source": [
    "index = faiss.read_index('../data/faiss_indices/fusion_index_nlist4000.faiss')\n",
    "embeddings, pids = load_chunked_embeddings('../data/embeddings')\n",
    "df = pd.read_csv('../data/csv/sample_1M.csv')\n",
    "\n",
    "fig = visualize_query_clusters(\n",
    "    index, \n",
    "    embeddings, \n",
    "    \"comfortable shoes for running\",\n",
    "    pids,\n",
    "    df,\n",
    "    nprobe=3,\n",
    "    top_k=5\n",
    ")\n",
    "\n",
    "fig.show()"
   ]
  },
  {
   "cell_type": "code",
   "execution_count": null,
   "metadata": {},
   "outputs": [],
   "source": []
  }
 ],
 "metadata": {
  "kernelspec": {
   "display_name": "finly",
   "language": "python",
   "name": "python3"
  },
  "language_info": {
   "codemirror_mode": {
    "name": "ipython",
    "version": 3
   },
   "file_extension": ".py",
   "mimetype": "text/x-python",
   "name": "python",
   "nbconvert_exporter": "python",
   "pygments_lexer": "ipython3",
   "version": "3.11.12"
  }
 },
 "nbformat": 4,
 "nbformat_minor": 2
}
