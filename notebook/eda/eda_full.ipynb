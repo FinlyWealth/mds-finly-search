{
 "cells": [
  {
   "cell_type": "code",
   "execution_count": 1,
   "id": "95d71202-0d3b-4fc5-b631-d3c427e5d84d",
   "metadata": {
    "execution": {
     "iopub.execute_input": "2025-06-21T15:58:44.000198Z",
     "iopub.status.busy": "2025-06-21T15:58:43.999804Z",
     "iopub.status.idle": "2025-06-21T15:58:44.811787Z",
     "shell.execute_reply": "2025-06-21T15:58:44.811163Z"
    }
   },
   "outputs": [],
   "source": [
    "import pandas as pd\n",
    "import pyarrow as pa\n",
    "import pyarrow.parquet as pq\n",
    "import cudf\n",
    "import os\n",
    "import glob"
   ]
  },
  {
   "cell_type": "markdown",
   "id": "c5a26ec4-3f20-4965-a35e-7dfc2d48deae",
   "metadata": {},
   "source": [
    "In this notebook, we perform exploratory data analysis (EDA) on the raw product metadata to gain a basic understanding of the dataset and its key characteristics."
   ]
  },
  {
   "cell_type": "code",
   "execution_count": 2,
   "id": "51f7c843-c74a-4106-a939-a42a977490fa",
   "metadata": {
    "execution": {
     "iopub.execute_input": "2025-06-21T15:58:44.813472Z",
     "iopub.status.busy": "2025-06-21T15:58:44.813299Z",
     "iopub.status.idle": "2025-06-21T15:59:15.080543Z",
     "shell.execute_reply": "2025-06-21T15:59:15.080147Z"
    }
   },
   "outputs": [],
   "source": [
    "gdf = cudf.read_parquet('../../data/csv/raw/raw_data.parquet')"
   ]
  },
  {
   "cell_type": "markdown",
   "id": "254188e3-5c52-4f6c-afc0-f87b19dcff2f",
   "metadata": {},
   "source": [
    "### Missing Data Overview\n",
    "In this section, we examine each column to identify the presence of missing values. Based on the results below, we find that `ShortDescription` and `Keyword`s are missing over 90% of their data. Additionally, several other columns also have a significant proportion of missing values."
   ]
  },
  {
   "cell_type": "code",
   "execution_count": 3,
   "id": "d69f6fe0-f78e-446f-a7e1-b7f4ddcd3736",
   "metadata": {
    "execution": {
     "iopub.execute_input": "2025-06-21T15:59:15.082208Z",
     "iopub.status.busy": "2025-06-21T15:59:15.081833Z",
     "iopub.status.idle": "2025-06-21T15:59:15.197331Z",
     "shell.execute_reply": "2025-06-21T15:59:15.196870Z"
    }
   },
   "outputs": [
    {
     "name": "stdout",
     "output_type": "stream",
     "text": [
      "Pid                  0.000000\n",
      "Name                 0.223484\n",
      "ShortDescription    91.055908\n",
      "Description          0.029069\n",
      "CategoryId          28.932255\n",
      "Category            28.932255\n",
      "ImageURL             0.005707\n",
      "Price                0.000943\n",
      "PriceCurrency        0.090815\n",
      "SalePrice            4.649404\n",
      "FinalPrice           0.000943\n",
      "Discount             0.000000\n",
      "isOnSale             0.000000\n",
      "IsInStock            0.000000\n",
      "Keywords            99.178080\n",
      "Brand               53.043597\n",
      "Manufacturer        34.154016\n",
      "MPN                 53.870327\n",
      "UPCorEAN            61.140028\n",
      "SKU                  0.000000\n",
      "Color               49.713821\n",
      "Gender              54.632003\n",
      "Size                46.570427\n",
      "Condition           10.031526\n",
      "dtype: float64\n"
     ]
    }
   ],
   "source": [
    "# % of null rows\n",
    "print(gdf.isnull().sum() / len(gdf) * 100)"
   ]
  },
  {
   "cell_type": "markdown",
   "id": "2b8b7778-3153-4cc8-b144-fcc9a809965e",
   "metadata": {},
   "source": [
    "### Check the distinct value count for each column\n",
    "\n",
    "In this step, we examine the number of unique values in each column to understand the variability and potential categorical nature of the data.  \n",
    "\n",
    "Based on the results below, we found that total `CategoryId` is 3588, but not sure how much of these categories overlap."
   ]
  },
  {
   "cell_type": "code",
   "execution_count": 4,
   "id": "44902b39-45b4-4687-aa87-c56b22781a62",
   "metadata": {
    "execution": {
     "iopub.execute_input": "2025-06-21T15:59:15.198514Z",
     "iopub.status.busy": "2025-06-21T15:59:15.198323Z",
     "iopub.status.idle": "2025-06-21T15:59:30.280640Z",
     "shell.execute_reply": "2025-06-21T15:59:30.280033Z"
    }
   },
   "outputs": [
    {
     "data": {
      "text/plain": [
       "Pid                 15147805\n",
       "Name                 9226783\n",
       "ShortDescription     1064972\n",
       "Description          5670091\n",
       "CategoryId              3588\n",
       "Category               15844\n",
       "ImageURL             5753395\n",
       "Price                 199462\n",
       "PriceCurrency             34\n",
       "SalePrice             162116\n",
       "FinalPrice            163978\n",
       "Discount                 101\n",
       "isOnSale                   2\n",
       "IsInStock                  2\n",
       "Keywords                5090\n",
       "Brand                  21247\n",
       "Manufacturer           25883\n",
       "MPN                  2350925\n",
       "UPCorEAN             3541939\n",
       "SKU                 10443422\n",
       "Color                 170433\n",
       "Gender                     3\n",
       "Size                   55761\n",
       "Condition                  5\n",
       "dtype: int64"
      ]
     },
     "execution_count": 4,
     "metadata": {},
     "output_type": "execute_result"
    }
   ],
   "source": [
    "gdf.nunique()"
   ]
  },
  {
   "cell_type": "markdown",
   "id": "777a6b13-3849-4c27-86da-85bd09a94536",
   "metadata": {},
   "source": [
    "Largest cateogries are books and varity of apparels"
   ]
  },
  {
   "cell_type": "code",
   "execution_count": 5,
   "id": "9b6b296f-2018-42d2-8673-458b1cfb8a03",
   "metadata": {
    "execution": {
     "iopub.execute_input": "2025-06-21T15:59:30.282071Z",
     "iopub.status.busy": "2025-06-21T15:59:30.281731Z",
     "iopub.status.idle": "2025-06-21T15:59:30.573838Z",
     "shell.execute_reply": "2025-06-21T15:59:30.573454Z"
    }
   },
   "outputs": [
    {
     "data": {
      "text/plain": [
       "Category\n",
       "<NA>                                                                                                                                                                         28.932255\n",
       "Media >Books                                                                                                                                                                  7.358877\n",
       "Apparel & Accessories >Shoes                                                                                                                                                  6.447371\n",
       "Apparel & Accessories >Clothing >Shirts & Tops                                                                                                                                5.735526\n",
       "Apparel & Accessories                                                                                                                                                         4.258397\n",
       "                                                                                                                                                                               ...    \n",
       "Kunst en entertainment >Hobby's en creatieve vaardigheden >Handwerk en hobby's >Handwerkpatronen en -mallen >Viltmatrijzen                                                    0.000007\n",
       "Sportartiklar >Utomhusaktiviteter >Cykling >Cykeldelar >Delar till cykelhjul >Cykelfälgar                                                                                     0.000007\n",
       "Kleding en accessoires >Kleding >Ondergoed en sokken >Accessoires voor lingerie >Jarretelgordels                                                                              0.000007\n",
       "Heim & Garten >Haushaltsgeräte >Klimatisierung >Luftentfeuchter                                                                                                               0.000007\n",
       "Voertuigen en onderdelen >Voertuigonderdelen en -accessoires >Onderdelen en accessoirs voor vaartuigen >Uitlaatonderdelen voor vaartuigen >Spruitstukken voor vaartuigen      0.000007\n",
       "Name: proportion, Length: 15845, dtype: float64"
      ]
     },
     "execution_count": 5,
     "metadata": {},
     "output_type": "execute_result"
    }
   ],
   "source": [
    "gdf['Category'].value_counts(normalize=True, dropna=False) * 100"
   ]
  },
  {
   "cell_type": "markdown",
   "id": "9a0dd46b-c7da-4d38-9ce1-9cf36266016b",
   "metadata": {},
   "source": [
    "If we add `USD`, `CAD` and `GBP`, only about 70% of the data is guranteed to be in English. "
   ]
  },
  {
   "cell_type": "code",
   "execution_count": 6,
   "id": "05d673f9-9a55-41e1-97a9-cde7868041e2",
   "metadata": {
    "execution": {
     "iopub.execute_input": "2025-06-21T15:59:30.575068Z",
     "iopub.status.busy": "2025-06-21T15:59:30.574861Z",
     "iopub.status.idle": "2025-06-21T15:59:30.615648Z",
     "shell.execute_reply": "2025-06-21T15:59:30.614916Z"
    }
   },
   "outputs": [
    {
     "data": {
      "text/plain": [
       "PriceCurrency\n",
       "USD         60.797999\n",
       "EUR         11.729155\n",
       "CAD          9.201871\n",
       "GBP          1.667728\n",
       "SEK          1.470434\n",
       "CHF          1.266301\n",
       "ZAR          1.189462\n",
       "BRL          1.081857\n",
       "AUD          1.071736\n",
       "JPY          1.068454\n",
       "COP          1.032319\n",
       "CLP          1.008502\n",
       "KRW          0.994007\n",
       "DKK          0.886994\n",
       "NOK          0.861779\n",
       "ARS          0.630151\n",
       "MXN          0.476498\n",
       "SAR          0.465825\n",
       "PEN          0.405880\n",
       "NZD          0.390767\n",
       "MYR          0.334183\n",
       "AED          0.325199\n",
       "KWD          0.280549\n",
       "CNY          0.222756\n",
       "INR          0.220468\n",
       "TRY          0.216626\n",
       "RUB          0.185978\n",
       "PHP          0.174089\n",
       "SGD          0.114254\n",
       "<NA>         0.090815\n",
       "THB          0.070950\n",
       "HKD          0.023284\n",
       "TWD          0.022016\n",
       "PLN          0.021048\n",
       "0.00 USD     0.000065\n",
       "Name: proportion, dtype: float64"
      ]
     },
     "execution_count": 6,
     "metadata": {},
     "output_type": "execute_result"
    }
   ],
   "source": [
    "gdf['PriceCurrency'].value_counts(normalize=True, dropna=False) * 100"
   ]
  },
  {
   "cell_type": "markdown",
   "id": "f2a6226c-44f4-46c5-911a-f65f73d56281",
   "metadata": {},
   "source": [
    "53% of products don't have `Brand` information. The brands are also not distributed evenly."
   ]
  },
  {
   "cell_type": "code",
   "execution_count": 7,
   "id": "1baf1323-fd94-4d46-b5a1-aa2347e4547e",
   "metadata": {
    "execution": {
     "iopub.execute_input": "2025-06-21T15:59:30.616795Z",
     "iopub.status.busy": "2025-06-21T15:59:30.616584Z",
     "iopub.status.idle": "2025-06-21T15:59:30.653126Z",
     "shell.execute_reply": "2025-06-21T15:59:30.652745Z"
    }
   },
   "outputs": [
    {
     "data": {
      "text/plain": [
       "Brand\n",
       "<NA>             53.043597\n",
       "Lands' End        0.997601\n",
       "Nike              0.639777\n",
       "Levi's            0.496545\n",
       "Ray-Ban           0.427071\n",
       "                   ...    \n",
       "5052557105641     0.000007\n",
       "E-GÓ              0.000007\n",
       "Baby Shusher      0.000007\n",
       "Woodlink          0.000007\n",
       "Banana Panda      0.000007\n",
       "Name: proportion, Length: 21248, dtype: float64"
      ]
     },
     "execution_count": 7,
     "metadata": {},
     "output_type": "execute_result"
    }
   ],
   "source": [
    "gdf['Brand'].value_counts(normalize=True, dropna=False) * 100"
   ]
  },
  {
   "cell_type": "markdown",
   "id": "64412fb1-a89b-4e62-9e53-4291a72f4c2d",
   "metadata": {},
   "source": [
    "Temu is labelled as a manufacturer even though it's an ecommerce site. Not sure how these data overlap with `Brand`. "
   ]
  },
  {
   "cell_type": "code",
   "execution_count": 8,
   "id": "273f1b65-c4bd-4423-9f64-cdc2efaff465",
   "metadata": {
    "execution": {
     "iopub.execute_input": "2025-06-21T15:59:30.654216Z",
     "iopub.status.busy": "2025-06-21T15:59:30.654005Z",
     "iopub.status.idle": "2025-06-21T15:59:30.698658Z",
     "shell.execute_reply": "2025-06-21T15:59:30.698284Z"
    }
   },
   "outputs": [
    {
     "data": {
      "text/plain": [
       "Manufacturer\n",
       "<NA>              34.154016\n",
       "Temu              13.930955\n",
       "Lands' End         0.997601\n",
       "Nike               0.873811\n",
       "Levi's             0.499061\n",
       "                    ...    \n",
       "E-GÓ               0.000007\n",
       "Baby Shusher       0.000007\n",
       "Woodlink           0.000007\n",
       "Banana Panda       0.000007\n",
       "Bug Bite Thing     0.000007\n",
       "Name: proportion, Length: 25884, dtype: float64"
      ]
     },
     "execution_count": 8,
     "metadata": {},
     "output_type": "execute_result"
    }
   ],
   "source": [
    "gdf['Manufacturer'].value_counts(normalize=True, dropna=False) * 100"
   ]
  },
  {
   "cell_type": "code",
   "execution_count": 9,
   "id": "1f7ead38-354a-4653-acb2-a566fd4a65df",
   "metadata": {
    "execution": {
     "iopub.execute_input": "2025-06-21T15:59:30.699796Z",
     "iopub.status.busy": "2025-06-21T15:59:30.699596Z",
     "iopub.status.idle": "2025-06-21T15:59:30.764096Z",
     "shell.execute_reply": "2025-06-21T15:59:30.763727Z"
    }
   },
   "outputs": [
    {
     "data": {
      "text/plain": [
       "Color\n",
       "<NA>                     49.713821\n",
       "Black                     8.038111\n",
       "White                     2.272229\n",
       "Blue                      1.528520\n",
       "Red                       0.908171\n",
       "                           ...    \n",
       "K-056                     0.000007\n",
       "Golden Ear Black          0.000007\n",
       "Coyote/Sun Black          0.000007\n",
       "Radiant Translucent       0.000007\n",
       "Muted Lavender Purple     0.000007\n",
       "Name: proportion, Length: 170434, dtype: float64"
      ]
     },
     "execution_count": 9,
     "metadata": {},
     "output_type": "execute_result"
    }
   ],
   "source": [
    "gdf['Color'].value_counts(normalize=True, dropna=False) * 100"
   ]
  },
  {
   "cell_type": "code",
   "execution_count": 10,
   "id": "90caaf1d-9dfe-4b05-918a-a83c6340088d",
   "metadata": {
    "execution": {
     "iopub.execute_input": "2025-06-21T15:59:30.765203Z",
     "iopub.status.busy": "2025-06-21T15:59:30.765004Z",
     "iopub.status.idle": "2025-06-21T15:59:30.783548Z",
     "shell.execute_reply": "2025-06-21T15:59:30.783226Z"
    }
   },
   "outputs": [
    {
     "data": {
      "text/plain": [
       "Gender\n",
       "<NA>      54.632003\n",
       "female    24.382343\n",
       "male      15.222691\n",
       "unisex     5.762963\n",
       "Name: proportion, dtype: float64"
      ]
     },
     "execution_count": 10,
     "metadata": {},
     "output_type": "execute_result"
    }
   ],
   "source": [
    "gdf['Gender'].value_counts(normalize=True, dropna=False) * 100"
   ]
  },
  {
   "cell_type": "code",
   "execution_count": 11,
   "id": "211f4f87-6848-4d0c-b9d5-fdd631a3c186",
   "metadata": {
    "execution": {
     "iopub.execute_input": "2025-06-21T15:59:30.784599Z",
     "iopub.status.busy": "2025-06-21T15:59:30.784400Z",
     "iopub.status.idle": "2025-06-21T15:59:30.827760Z",
     "shell.execute_reply": "2025-06-21T15:59:30.827409Z"
    }
   },
   "outputs": [
    {
     "data": {
      "text/plain": [
       "Size\n",
       "<NA>                             46.570427\n",
       "01                                1.761429\n",
       "M                                 1.600672\n",
       "S                                 1.570817\n",
       "L                                 1.554807\n",
       "                                   ...    \n",
       "60in*80in 15lbs                   0.000007\n",
       "8mm Frosted                       0.000007\n",
       "400*175*120cm                     0.000007\n",
       "16inchx24inch(40cmx60cm)x3pcs     0.000007\n",
       "TUC664B                           0.000007\n",
       "Name: proportion, Length: 55762, dtype: float64"
      ]
     },
     "execution_count": 11,
     "metadata": {},
     "output_type": "execute_result"
    }
   ],
   "source": [
    "gdf['Size'].value_counts(normalize=True, dropna=False) * 100"
   ]
  },
  {
   "cell_type": "code",
   "execution_count": 12,
   "id": "0bda6c3f-7649-44d9-8935-87fca759407f",
   "metadata": {
    "execution": {
     "iopub.execute_input": "2025-06-21T15:59:30.828834Z",
     "iopub.status.busy": "2025-06-21T15:59:30.828705Z",
     "iopub.status.idle": "2025-06-21T15:59:30.852244Z",
     "shell.execute_reply": "2025-06-21T15:59:30.851865Z"
    }
   },
   "outputs": [
    {
     "data": {
      "text/plain": [
       "Condition\n",
       "new            37.890660\n",
       "New            33.695159\n",
       "Used           18.375940\n",
       "<NA>           10.031526\n",
       "refurbished     0.005733\n",
       "Refurbished     0.000982\n",
       "Name: proportion, dtype: float64"
      ]
     },
     "execution_count": 12,
     "metadata": {},
     "output_type": "execute_result"
    }
   ],
   "source": [
    "gdf['Condition'].value_counts(normalize=True, dropna=False) * 100"
   ]
  }
 ],
 "metadata": {
  "kernelspec": {
   "display_name": "finly",
   "language": "python",
   "name": "python3"
  },
  "language_info": {
   "codemirror_mode": {
    "name": "ipython",
    "version": 3
   },
   "file_extension": ".py",
   "mimetype": "text/x-python",
   "name": "python",
   "nbconvert_exporter": "python",
   "pygments_lexer": "ipython3",
   "version": "3.11.12"
  }
 },
 "nbformat": 4,
 "nbformat_minor": 5
}
