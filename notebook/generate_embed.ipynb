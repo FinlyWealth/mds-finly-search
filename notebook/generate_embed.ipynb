{
 "cells": [
  {
   "cell_type": "code",
   "execution_count": 1,
   "metadata": {},
   "outputs": [],
   "source": [
    "import torch\n",
    "import pandas as pd\n",
    "import numpy as np\n",
    "from PIL import Image\n",
    "from transformers import AutoModel, AutoProcessor\n",
    "from tqdm.auto import tqdm"
   ]
  },
  {
   "cell_type": "code",
   "execution_count": 2,
   "metadata": {},
   "outputs": [
    {
     "name": "stdout",
     "output_type": "stream",
     "text": [
      "Device is cuda\n"
     ]
    }
   ],
   "source": [
    "device = \"cuda\" if torch.cuda.is_available() else \"mps\" if torch.mps.is_available() else \"cpu\"\n",
    "print(f\"Device is {device}\")"
   ]
  },
  {
   "cell_type": "code",
   "execution_count": 3,
   "metadata": {},
   "outputs": [],
   "source": [
    "# Load data\n",
    "df = pd.read_parquet('../data/merged_output_sample_100k.parquet')"
   ]
  },
  {
   "cell_type": "code",
   "execution_count": 4,
   "metadata": {},
   "outputs": [
    {
     "name": "stderr",
     "output_type": "stream",
     "text": [
      "Using a slow image processor as `use_fast` is unset and a slow processor was saved with this model. `use_fast=True` will be the default behavior in v4.52, even if the model was saved with a slow processor. This will result in minor differences in outputs. You'll still be able to use a slow processor with `use_fast=False`.\n"
     ]
    },
    {
     "data": {
      "text/plain": [
       "CLIPModel(\n",
       "  (text_model): CLIPTextTransformer(\n",
       "    (embeddings): CLIPTextEmbeddings(\n",
       "      (token_embedding): Embedding(49408, 512)\n",
       "      (position_embedding): Embedding(77, 512)\n",
       "    )\n",
       "    (encoder): CLIPEncoder(\n",
       "      (layers): ModuleList(\n",
       "        (0-11): 12 x CLIPEncoderLayer(\n",
       "          (self_attn): CLIPSdpaAttention(\n",
       "            (k_proj): Linear(in_features=512, out_features=512, bias=True)\n",
       "            (v_proj): Linear(in_features=512, out_features=512, bias=True)\n",
       "            (q_proj): Linear(in_features=512, out_features=512, bias=True)\n",
       "            (out_proj): Linear(in_features=512, out_features=512, bias=True)\n",
       "          )\n",
       "          (layer_norm1): LayerNorm((512,), eps=1e-05, elementwise_affine=True)\n",
       "          (mlp): CLIPMLP(\n",
       "            (activation_fn): QuickGELUActivation()\n",
       "            (fc1): Linear(in_features=512, out_features=2048, bias=True)\n",
       "            (fc2): Linear(in_features=2048, out_features=512, bias=True)\n",
       "          )\n",
       "          (layer_norm2): LayerNorm((512,), eps=1e-05, elementwise_affine=True)\n",
       "        )\n",
       "      )\n",
       "    )\n",
       "    (final_layer_norm): LayerNorm((512,), eps=1e-05, elementwise_affine=True)\n",
       "  )\n",
       "  (vision_model): CLIPVisionTransformer(\n",
       "    (embeddings): CLIPVisionEmbeddings(\n",
       "      (patch_embedding): Conv2d(3, 768, kernel_size=(32, 32), stride=(32, 32), bias=False)\n",
       "      (position_embedding): Embedding(50, 768)\n",
       "    )\n",
       "    (pre_layrnorm): LayerNorm((768,), eps=1e-05, elementwise_affine=True)\n",
       "    (encoder): CLIPEncoder(\n",
       "      (layers): ModuleList(\n",
       "        (0-11): 12 x CLIPEncoderLayer(\n",
       "          (self_attn): CLIPSdpaAttention(\n",
       "            (k_proj): Linear(in_features=768, out_features=768, bias=True)\n",
       "            (v_proj): Linear(in_features=768, out_features=768, bias=True)\n",
       "            (q_proj): Linear(in_features=768, out_features=768, bias=True)\n",
       "            (out_proj): Linear(in_features=768, out_features=768, bias=True)\n",
       "          )\n",
       "          (layer_norm1): LayerNorm((768,), eps=1e-05, elementwise_affine=True)\n",
       "          (mlp): CLIPMLP(\n",
       "            (activation_fn): QuickGELUActivation()\n",
       "            (fc1): Linear(in_features=768, out_features=3072, bias=True)\n",
       "            (fc2): Linear(in_features=3072, out_features=768, bias=True)\n",
       "          )\n",
       "          (layer_norm2): LayerNorm((768,), eps=1e-05, elementwise_affine=True)\n",
       "        )\n",
       "      )\n",
       "    )\n",
       "    (post_layernorm): LayerNorm((768,), eps=1e-05, elementwise_affine=True)\n",
       "  )\n",
       "  (visual_projection): Linear(in_features=768, out_features=512, bias=False)\n",
       "  (text_projection): Linear(in_features=512, out_features=512, bias=False)\n",
       ")"
      ]
     },
     "execution_count": 4,
     "metadata": {},
     "output_type": "execute_result"
    }
   ],
   "source": [
    "# Load model\n",
    "model_id = \"openai/clip-vit-base-patch32\"\n",
    "processor = AutoProcessor.from_pretrained(model_id)\n",
    "model = AutoModel.from_pretrained(model_id).to(device)\n",
    "model.eval()"
   ]
  },
  {
   "cell_type": "code",
   "execution_count": 5,
   "metadata": {},
   "outputs": [],
   "source": [
    "def calculate_embeddings(df, save_path='embeddings.npz', batch_size=100):\n",
    "    text_embeddings = []\n",
    "    image_embeddings = []\n",
    "    product_ids = []\n",
    "    \n",
    "    # Keep track of valid indices\n",
    "    valid_indices = []\n",
    "    \n",
    "    # Batch image embedding first to determine which samples are valid\n",
    "    image_paths = [f\"../data/images/{pid}.jpeg\" for pid in df['Pid'].tolist()]\n",
    "    total_image_batches = (len(image_paths) + batch_size - 1) // batch_size\n",
    "    \n",
    "    for batch_num, i in enumerate(range(0, len(image_paths), batch_size), 1):\n",
    "        batch_images = []\n",
    "        batch_valid_indices = []\n",
    "        \n",
    "        for idx, path in enumerate(image_paths[i:i+batch_size]):\n",
    "            try:\n",
    "                # Open and convert image to RGB\n",
    "                image = Image.open(path).convert(\"RGB\")\n",
    "                batch_images.append(image)\n",
    "                batch_valid_indices.append(i + idx)  # Store the global index\n",
    "            except Exception as e:\n",
    "                print(f\"Skipping problematic image {path}: {e}\")\n",
    "        \n",
    "        if batch_images:\n",
    "            try:\n",
    "                # Process images using the CLIP processor\n",
    "                inputs = processor(\n",
    "                    images=batch_images,\n",
    "                    return_tensors=\"pt\",\n",
    "                    padding=True\n",
    "                ).to(device)\n",
    "                \n",
    "                with torch.no_grad():\n",
    "                    batch_features = model.get_image_features(**inputs)\n",
    "                    batch_features /= batch_features.norm(dim=-1, keepdim=True)\n",
    "                \n",
    "                image_embeddings.extend(batch_features.cpu().numpy())\n",
    "                valid_indices.extend(batch_valid_indices)\n",
    "                \n",
    "            except Exception as e:\n",
    "                print(f\"Error processing batch {batch_num}: {e}\")\n",
    "                # Skip the problematic batch\n",
    "                continue\n",
    "                \n",
    "        print(f\"\\rImage embedding batch {batch_num}/{total_image_batches} processed\", end='', flush=True)\n",
    "    \n",
    "    print(f\"\\nProcessed {len(valid_indices)} valid images out of {len(image_paths)} total images\")\n",
    "    \n",
    "    # Now process text only for valid indices\n",
    "    texts = df['Name'].iloc[valid_indices].tolist()\n",
    "    ids = df['Pid'].iloc[valid_indices].tolist()\n",
    "    \n",
    "    total_text_batches = (len(texts) + batch_size - 1) // batch_size\n",
    "    for batch_num, i in enumerate(range(0, len(texts), batch_size), 1):\n",
    "        batch_texts = texts[i:i+batch_size]\n",
    "        inputs = processor(text=batch_texts, return_tensors=\"pt\", padding=True, truncation=True).to(device)\n",
    "        \n",
    "        with torch.no_grad():\n",
    "            batch_features = model.get_text_features(**inputs)\n",
    "            batch_features /= batch_features.norm(dim=-1, keepdim=True)\n",
    "            \n",
    "        text_embeddings.extend(batch_features.cpu().numpy())\n",
    "        product_ids.extend(ids[i:i+batch_size])\n",
    "        print(f\"\\rText embedding batch {batch_num}/{total_text_batches} processed\", end='', flush=True)\n",
    "    \n",
    "    print(f\"\\nFinal dataset size: {len(text_embeddings)} pairs\")\n",
    "    \n",
    "    # Save\n",
    "    np.savez(save_path, \n",
    "             text_embeddings=np.array(text_embeddings),\n",
    "             image_embeddings=np.array(image_embeddings),\n",
    "             product_ids=np.array(product_ids))\n",
    "    \n",
    "    return text_embeddings, image_embeddings, product_ids"
   ]
  },
  {
   "cell_type": "code",
   "execution_count": null,
   "metadata": {},
   "outputs": [
    {
     "name": "stdout",
     "output_type": "stream",
     "text": [
      "Image embedding batch 562/1000 processed"
     ]
    },
    {
     "name": "stderr",
     "output_type": "stream",
     "text": [
      "The channel dimension is ambiguous. Got image shape (1, 128, 3). Assuming channels are the first dimension.\n"
     ]
    },
    {
     "name": "stdout",
     "output_type": "stream",
     "text": [
      "Error processing batch 563: mean must have 1 elements if it is an iterable, got 3\n",
      "Image embedding batch 572/1000 processed"
     ]
    }
   ],
   "source": [
    "# Calculate embeddings\n",
    "text_embeddings, image_embeddings, product_ids = calculate_embeddings(df)"
   ]
  }
 ],
 "metadata": {
  "kernelspec": {
   "display_name": "finly",
   "language": "python",
   "name": "python3"
  },
  "language_info": {
   "codemirror_mode": {
    "name": "ipython",
    "version": 3
   },
   "file_extension": ".py",
   "mimetype": "text/x-python",
   "name": "python",
   "nbconvert_exporter": "python",
   "pygments_lexer": "ipython3",
   "version": "3.11.12"
  }
 },
 "nbformat": 4,
 "nbformat_minor": 4
}
