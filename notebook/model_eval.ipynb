{
 "cells": [
  {
   "cell_type": "code",
   "execution_count": 1,
   "metadata": {},
   "outputs": [
    {
     "name": "stderr",
     "output_type": "stream",
     "text": [
      "/Users/jchang/miniforge3/envs/finly/lib/python3.11/site-packages/tqdm/auto.py:21: TqdmWarning: IProgress not found. Please update jupyter and ipywidgets. See https://ipywidgets.readthedocs.io/en/stable/user_install.html\n",
      "  from .autonotebook import tqdm as notebook_tqdm\n"
     ]
    }
   ],
   "source": [
    "import torch\n",
    "import pandas as pd\n",
    "import numpy as np\n",
    "from PIL import Image\n",
    "from transformers import AutoModel, AutoProcessor\n",
    "from tqdm.auto import tqdm"
   ]
  },
  {
   "cell_type": "code",
   "execution_count": 2,
   "metadata": {},
   "outputs": [],
   "source": [
    "import sys\n",
    "sys.path.append('../src')\n",
    "from preprocess import initialize_clip_model, generate_embedding\n",
    "from retrieval import hybrid_search"
   ]
  },
  {
   "cell_type": "code",
   "execution_count": 3,
   "metadata": {},
   "outputs": [
    {
     "name": "stdout",
     "output_type": "stream",
     "text": [
      "Device is mps\n"
     ]
    }
   ],
   "source": [
    "device = \"cuda\" if torch.cuda.is_available() else \"mps\" if torch.mps.is_available() else \"cpu\"\n",
    "print(f\"Device is {device}\")"
   ]
  },
  {
   "cell_type": "code",
   "execution_count": 4,
   "metadata": {},
   "outputs": [
    {
     "name": "stdout",
     "output_type": "stream",
     "text": [
      "Using 20 samples for evaluation\n"
     ]
    },
    {
     "data": {
      "text/plain": [
       "(20, 30)"
      ]
     },
     "execution_count": 4,
     "metadata": {},
     "output_type": "execute_result"
    }
   ],
   "source": [
    "# Load data\n",
    "SAMPLE_SIZE = 20\n",
    "\n",
    "df = pd.read_parquet('../data/merged_output_sample_100k.parquet')\n",
    "\n",
    "if SAMPLE_SIZE < len(df):\n",
    "    df = df.sample(n=SAMPLE_SIZE, random_state=42)\n",
    "    print(f\"Using {SAMPLE_SIZE} samples for evaluation\")\n",
    "else:\n",
    "    print(f\"Using all {len(df)} samples for evaluation\")\n",
    "\n",
    "df.shape"
   ]
  },
  {
   "cell_type": "code",
   "execution_count": 5,
   "metadata": {},
   "outputs": [
    {
     "name": "stderr",
     "output_type": "stream",
     "text": [
      "Using a slow image processor as `use_fast` is unset and a slow processor was saved with this model. `use_fast=True` will be the default behavior in v4.52, even if the model was saved with a slow processor. This will result in minor differences in outputs. You'll still be able to use a slow processor with `use_fast=False`.\n"
     ]
    }
   ],
   "source": [
    "# Models to test\n",
    "clip_model = \"openai/clip-vit-base-patch32\"\n",
    "initialize_clip_model(clip_model)\n",
    "k=10"
   ]
  },
  {
   "cell_type": "code",
   "execution_count": 6,
   "metadata": {},
   "outputs": [
    {
     "name": "stdout",
     "output_type": "stream",
     "text": [
      "Recall@10: 1.0000\n"
     ]
    }
   ],
   "source": [
    "hits = 0\n",
    "\n",
    "for idx, row in df.iterrows():\n",
    "    # Generate embedding for the query (text or image)\n",
    "    query_text = row.get('Name', None)\n",
    "    query_image_path = f\"../data/images/{row['Pid']}.jpeg\"  # Adjust if your image path is different\n",
    "\n",
    "    embedding = generate_embedding(query_text=query_text, query_image_path=query_image_path)\n",
    "    \n",
    "    # Run retrieval\n",
    "    retrieved_pids, _ = hybrid_search(query_text, embedding, top_k=k)\n",
    "    \n",
    "    # Check if the ground truth Pid is in the top-k results\n",
    "    if row['Pid'] in retrieved_pids:\n",
    "        hits += 1\n",
    "\n",
    "recall_at_k = hits / len(df)\n",
    "print(f\"Recall@{k}: {recall_at_k:.4f}\")"
   ]
  }
 ],
 "metadata": {
  "kaggle": {
   "accelerator": "nvidiaTeslaT4",
   "dataSources": [
    {
     "datasetId": 175990,
     "sourceId": 396802,
     "sourceType": "datasetVersion"
    }
   ],
   "dockerImageVersionId": 31011,
   "isGpuEnabled": true,
   "isInternetEnabled": true,
   "language": "python",
   "sourceType": "notebook"
  },
  "kernelspec": {
   "display_name": "finly",
   "language": "python",
   "name": "python3"
  },
  "language_info": {
   "codemirror_mode": {
    "name": "ipython",
    "version": 3
   },
   "file_extension": ".py",
   "mimetype": "text/x-python",
   "name": "python",
   "nbconvert_exporter": "python",
   "pygments_lexer": "ipython3",
   "version": "3.11.12"
  }
 },
 "nbformat": 4,
 "nbformat_minor": 4
}
