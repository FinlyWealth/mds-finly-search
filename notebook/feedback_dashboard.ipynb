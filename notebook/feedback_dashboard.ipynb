{
 "cells": [
  {
   "cell_type": "code",
   "execution_count": 5,
   "metadata": {},
   "outputs": [],
   "source": [
    "import sys\n",
    "import os\n",
    "sys.path.append(os.path.abspath('..'))\n",
    "\n",
    "from typing import List, Dict\n",
    "import numpy as np\n",
    "from config.db import DB_CONFIG\n",
    "import plotly.express as px\n",
    "import plotly.graph_objects as go"
   ]
  },
  {
   "cell_type": "code",
   "execution_count": 3,
   "metadata": {},
   "outputs": [],
   "source": [
    "def fetch_feedback_data():\n",
    "    \"\"\"Fetch all feedback data from the database\"\"\"\n",
    "    conn = psycopg2.connect(**DB_CONFIG)\n",
    "    cur = conn.cursor()\n",
    "    \n",
    "    # Query to get all feedback data\n",
    "    cur.execute(\"\"\"\n",
    "        SELECT session_id, query_text, query_image, feedback, timestamp\n",
    "        FROM user_feedback\n",
    "        ORDER BY timestamp\n",
    "    \"\"\")\n",
    "    \n",
    "    # Fetch all results\n",
    "    results = cur.fetchall()\n",
    "    \n",
    "    # Close database connection\n",
    "    cur.close()\n",
    "    conn.close()\n",
    "    \n",
    "    # Convert to DataFrame\n",
    "    df = pd.DataFrame(results, columns=['session_id', 'query_text', 'query_image', 'feedback', 'timestamp'])\n",
    "    return df\n",
    "\n",
    "def calculate_precision(feedback_list: List[Dict]) -> float:\n",
    "    \"\"\"Calculate precision for a single session's feedback\n",
    "    \n",
    "    Args:\n",
    "        feedback_list: List of dictionaries containing 'pid' and 'feedback' keys\n",
    "        \n",
    "    Returns:\n",
    "        float: Precision score (ratio of positive feedbacks to total feedbacks)\n",
    "    \"\"\"\n",
    "    if not feedback_list:\n",
    "        return 0.0\n",
    "    \n",
    "    # Count positive feedbacks (True values)\n",
    "    positive_count = sum(1 for item in feedback_list if item['feedback'] is True)\n",
    "    total_count = len(feedback_list)\n",
    "    \n",
    "    return positive_count / total_count if total_count > 0 else 0.0"
   ]
  },
  {
   "cell_type": "code",
   "execution_count": 8,
   "metadata": {},
   "outputs": [
    {
     "name": "stdout",
     "output_type": "stream",
     "text": [
      "Feedback Analysis Summary:\n",
      "Total number of sessions: 1\n",
      "Average precision across all sessions: 0.600\n",
      "Median precision across all sessions: 0.600\n",
      "\n",
      "Precision Distribution:\n",
      "count    1.0\n",
      "mean     0.6\n",
      "std      NaN\n",
      "min      0.6\n",
      "25%      0.6\n",
      "50%      0.6\n",
      "75%      0.6\n",
      "max      0.6\n",
      "Name: precision, dtype: float64\n",
      "\n",
      "Average Precision by Query Type:\n",
      "            mean  count\n",
      "query_type             \n",
      "both         0.6      1\n"
     ]
    }
   ],
   "source": [
    "# Fetch data\n",
    "df = fetch_feedback_data()\n",
    "\n",
    "# Calculate precision for each session\n",
    "df['precision'] = df['feedback'].apply(calculate_precision)\n",
    "\n",
    "# Basic statistics\n",
    "print(\"Feedback Analysis Summary:\")\n",
    "print(f\"Total number of sessions: {len(df)}\")\n",
    "print(f\"Average precision across all sessions: {df['precision'].mean():.3f}\")\n",
    "print(f\"Median precision across all sessions: {df['precision'].median():.3f}\")\n",
    "print(\"\\nPrecision Distribution:\")\n",
    "print(df['precision'].describe())\n",
    "\n",
    "# Group by query type (text, image, or both)\n",
    "df['query_type'] = df.apply(\n",
    "    lambda row: 'text_only' if pd.notna(row['query_text']) and pd.isna(row['query_image'])\n",
    "    else 'image_only' if pd.isna(row['query_text']) and pd.notna(row['query_image'])\n",
    "    else 'both', axis=1\n",
    ")\n",
    "\n",
    "# Calculate average precision by query type\n",
    "print(\"\\nAverage Precision by Query Type:\")\n",
    "print(df.groupby('query_type')['precision'].agg(['mean', 'count']))"
   ]
  }
 ],
 "metadata": {
  "kernelspec": {
   "display_name": "finly",
   "language": "python",
   "name": "python3"
  },
  "language_info": {
   "codemirror_mode": {
    "name": "ipython",
    "version": 3
   },
   "file_extension": ".py",
   "mimetype": "text/x-python",
   "name": "python",
   "nbconvert_exporter": "python",
   "pygments_lexer": "ipython3",
   "version": "3.11.12"
  }
 },
 "nbformat": 4,
 "nbformat_minor": 2
}
