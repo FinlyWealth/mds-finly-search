{
 "cells": [
  {
   "cell_type": "code",
   "execution_count": 1,
   "id": "b6e58e26-4f2e-4707-ae6d-f44439e57675",
   "metadata": {},
   "outputs": [],
   "source": [
    "import os\n",
    "import time\n",
    "\n",
    "import pandas as pd\n",
    "import pyarrow as pa\n",
    "import pyarrow.parquet as pq\n",
    "import pyarrow.dataset as ds\n",
    "import numpy as np"
   ]
  },
  {
   "cell_type": "code",
   "execution_count": 2,
   "id": "3bfa2e45-5ee8-4598-89c4-5d270d126257",
   "metadata": {},
   "outputs": [
    {
     "name": "stdout",
     "output_type": "stream",
     "text": [
      "Load time: 233.16 seconds\n"
     ]
    }
   ],
   "source": [
    "start = time.time()\n",
    "\n",
    "selected_columns = [\n",
    "    \"Pid\", \"Description\", \"Name\", \"Category\", \n",
    "    \"Price\", \"PriceCurrency\", \"FinalPrice\", \"Discount\", \"isOnSale\", \"IsInStock\", \"Brand\", \n",
    "    \"Manufacturer\", \"Color\", \"Gender\", \"Size\", \"Condition\"\n",
    "]\n",
    "\n",
    "# Define dataset\n",
    "dataset = ds.dataset(\"../data/merged_output.parquet\", format=\"parquet\")\n",
    "\n",
    "# Define filter to keep only rows with allowed currencies\n",
    "currency_filter = ds.field(\"PriceCurrency\").isin([\"USD\", \"CAD\", \"GBP\"])\n",
    "\n",
    "# Load filtered data into a pandas DataFrame\n",
    "filtered_table = dataset.to_table(filter=currency_filter, columns=selected_columns)\n",
    "df = filtered_table.to_pandas()\n",
    "\n",
    "print(\"Load time: {:.2f} seconds\".format(time.time() - start))"
   ]
  },
  {
   "cell_type": "code",
   "execution_count": 3,
   "id": "c812ede4-d322-407f-af58-2838a2dfca0c",
   "metadata": {},
   "outputs": [
    {
     "data": {
      "text/plain": [
       "(11025415, 16)"
      ]
     },
     "execution_count": 3,
     "metadata": {},
     "output_type": "execute_result"
    }
   ],
   "source": [
    "df.shape"
   ]
  },
  {
   "cell_type": "code",
   "execution_count": 4,
   "id": "160c2f01-51c4-42d0-9214-699fe7debaf0",
   "metadata": {},
   "outputs": [],
   "source": [
    "# Clean and prepare both columns: Replace NaN with empty string and lowercase\n",
    "df[\"Brand_clean\"] = df[\"Brand\"].fillna('').str.strip().str.lower()\n",
    "df[\"Manufacturer_clean\"] = df[\"Manufacturer\"].fillna('').str.strip().str.lower()\n",
    "\n",
    "# Perform the comparison and create merged column\n",
    "df[\"MergedBrand\"] = df[\"Brand\"].where(df[\"Brand_clean\"] == df[\"Manufacturer_clean\"], df[\"Brand\"].combine_first(df[\"Manufacturer\"]))"
   ]
  },
  {
   "cell_type": "code",
   "execution_count": 5,
   "id": "3ad96c77-70a9-4cfd-81d6-7e7effb91643",
   "metadata": {},
   "outputs": [
    {
     "data": {
      "text/plain": [
       "MergedBrand\n",
       "<NA>             44.491586\n",
       "Temu              4.346703\n",
       "Lands' End        1.391984\n",
       "Nike               1.06425\n",
       "Levi's            0.600812\n",
       "                   ...    \n",
       "5052557215173     0.000009\n",
       "5052557215166     0.000009\n",
       "ELLISS            0.000009\n",
       "Ivory Snow        0.000009\n",
       "Divot Board       0.000009\n",
       "Name: proportion, Length: 25731, dtype: Float64"
      ]
     },
     "execution_count": 5,
     "metadata": {},
     "output_type": "execute_result"
    }
   ],
   "source": [
    "df['MergedBrand'].value_counts(normalize=True, dropna=False) * 100"
   ]
  },
  {
   "cell_type": "code",
   "execution_count": 6,
   "id": "fcad9512-26c7-444b-be6c-9a209b62f652",
   "metadata": {},
   "outputs": [],
   "source": [
    "columns_to_keep = [\"Pid\", \"Description\", \"Name\", \"Category\", \"Price\", \"PriceCurrency\", \"FinalPrice\", \"Discount\", \n",
    "                   \"isOnSale\", \"IsInStock\", \"Color\", \"Gender\", \"Size\", \"Condition\", \"MergedBrand\"]\n",
    "\n",
    "df_filtered = df[columns_to_keep]"
   ]
  },
  {
   "cell_type": "code",
   "execution_count": 7,
   "id": "a8c5e622-9923-4cf8-b438-f4e7072bc95a",
   "metadata": {},
   "outputs": [],
   "source": [
    "df_filtered.to_parquet('../data/filtered_data.parquet', engine='pyarrow')"
   ]
  }
 ],
 "metadata": {
  "kernelspec": {
   "display_name": "Python [conda env:575] *",
   "language": "python",
   "name": "conda-env-575-py"
  },
  "language_info": {
   "codemirror_mode": {
    "name": "ipython",
    "version": 3
   },
   "file_extension": ".py",
   "mimetype": "text/x-python",
   "name": "python",
   "nbconvert_exporter": "python",
   "pygments_lexer": "ipython3",
   "version": "3.12.0"
  }
 },
 "nbformat": 4,
 "nbformat_minor": 5
}
