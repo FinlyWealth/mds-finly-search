{
 "cells": [
  {
   "cell_type": "code",
   "execution_count": 1,
   "metadata": {},
   "outputs": [],
   "source": [
    "import torch\n",
    "import pandas as pd\n",
    "import numpy as np\n",
    "from PIL import Image\n",
    "from transformers import AutoModel, AutoProcessor\n",
    "from tqdm.auto import tqdm\n",
    "import pyarrow.parquet as pq"
   ]
  },
  {
   "cell_type": "code",
   "execution_count": 2,
   "metadata": {},
   "outputs": [],
   "source": [
    "def calculate_embeddings(df, save_path='embeddings.npz', batch_size=100):\n",
    "    text_embeddings = []\n",
    "    image_embeddings = []\n",
    "    product_ids = []\n",
    "    \n",
    "    # Keep track of valid indices\n",
    "    valid_indices = []\n",
    "    \n",
    "    # Batch image embedding first to determine which samples are valid\n",
    "    image_paths = [f\"../data/images/{pid}.jpeg\" for pid in df['Pid'].tolist()]\n",
    "    total_image_batches = (len(image_paths) + batch_size - 1) // batch_size\n",
    "    \n",
    "    for batch_num, i in enumerate(range(0, len(image_paths), batch_size), 1):\n",
    "        batch_images = []\n",
    "        batch_valid_indices = []\n",
    "        \n",
    "        for idx, path in enumerate(image_paths[i:i+batch_size]):\n",
    "            try:\n",
    "                # Open and convert image to RGB\n",
    "                image = Image.open(path).convert(\"RGB\")\n",
    "                batch_images.append(image)\n",
    "                batch_valid_indices.append(i + idx)  # Store the global index\n",
    "            except Exception as e:\n",
    "                print(f\"Skipping problematic image {path}: {e}\")\n",
    "        \n",
    "        if batch_images:\n",
    "            try:\n",
    "                # Process images using the CLIP processor\n",
    "                inputs = processor(\n",
    "                    images=batch_images,\n",
    "                    return_tensors=\"pt\",\n",
    "                    padding=True\n",
    "                ).to(device)\n",
    "                \n",
    "                with torch.no_grad():\n",
    "                    batch_features = model.get_image_features(**inputs)\n",
    "                    batch_features /= batch_features.norm(dim=-1, keepdim=True)\n",
    "                \n",
    "                image_embeddings.extend(batch_features.cpu().numpy())\n",
    "                valid_indices.extend(batch_valid_indices)\n",
    "                \n",
    "            except Exception as e:\n",
    "                print(f\"Error processing batch {batch_num}: {e}\")\n",
    "                # Skip the problematic batch\n",
    "                continue\n",
    "                \n",
    "        print(f\"\\rImage embedding batch {batch_num}/{total_image_batches} processed\", end='', flush=True)\n",
    "    \n",
    "    print(f\"\\nProcessed {len(valid_indices)} valid images out of {len(image_paths)} total images\")\n",
    "    \n",
    "    # Now process text only for valid indices\n",
    "    texts = df['Name'].iloc[valid_indices].tolist()\n",
    "    ids = df['Pid'].iloc[valid_indices].tolist()\n",
    "    \n",
    "    total_text_batches = (len(texts) + batch_size - 1) // batch_size\n",
    "    for batch_num, i in enumerate(range(0, len(texts), batch_size), 1):\n",
    "        batch_texts = texts[i:i+batch_size]\n",
    "        inputs = processor(text=batch_texts, return_tensors=\"pt\", padding=True, truncation=True).to(device)\n",
    "        \n",
    "        with torch.no_grad():\n",
    "            batch_features = model.get_text_features(**inputs)\n",
    "            batch_features /= batch_features.norm(dim=-1, keepdim=True)\n",
    "            \n",
    "        text_embeddings.extend(batch_features.cpu().numpy())\n",
    "        product_ids.extend(ids[i:i+batch_size])\n",
    "        print(f\"\\rText embedding batch {batch_num}/{total_text_batches} processed\", end='', flush=True)\n",
    "    \n",
    "    print(f\"\\nFinal dataset size: {len(text_embeddings)} pairs\")\n",
    "    \n",
    "    # Save\n",
    "    np.savez(save_path, \n",
    "             text_embeddings=np.array(text_embeddings),\n",
    "             image_embeddings=np.array(image_embeddings),\n",
    "             product_ids=np.array(product_ids))\n",
    "    \n",
    "    return text_embeddings, image_embeddings, product_ids"
   ]
  },
  {
   "cell_type": "code",
   "execution_count": 3,
   "metadata": {},
   "outputs": [
    {
     "name": "stdout",
     "output_type": "stream",
     "text": [
      "Device is cuda\n"
     ]
    },
    {
     "name": "stderr",
     "output_type": "stream",
     "text": [
      "Using a slow image processor as `use_fast` is unset and a slow processor was saved with this model. `use_fast=True` will be the default behavior in v4.52, even if the model was saved with a slow processor. This will result in minor differences in outputs. You'll still be able to use a slow processor with `use_fast=False`.\n"
     ]
    },
    {
     "name": "stdout",
     "output_type": "stream",
     "text": [
      "Image embedding batch 562/1000 processed"
     ]
    },
    {
     "name": "stderr",
     "output_type": "stream",
     "text": [
      "The channel dimension is ambiguous. Got image shape (1, 128, 3). Assuming channels are the first dimension.\n"
     ]
    },
    {
     "name": "stdout",
     "output_type": "stream",
     "text": [
      "Error processing batch 563: mean must have 1 elements if it is an iterable, got 3\n",
      "Image embedding batch 1000/1000 processed\n",
      "Processed 99900 valid images out of 100000 total images\n",
      "Text embedding batch 999/999 processed\n",
      "Final dataset size: 99900 pairs\n"
     ]
    }
   ],
   "source": [
    "# Set device\n",
    "device = \"cuda\" if torch.cuda.is_available() else \"mps\" if torch.mps.is_available() else \"cpu\"\n",
    "print(f\"Device is {device}\")\n",
    "\n",
    "SAMPLE_SIZE = 100000\n",
    "\n",
    "# Load data\n",
    "df = pd.read_parquet('../data/merged_output_sample_100k.parquet')\n",
    "# Randomly sample 100k rows\n",
    "# df = df.sample(n=SAMPLE_SIZE, random_state=42)\n",
    "# print(f\"Loaded {len(df)} rows of data\")\n",
    "# df.to_csv('samples.csv')\n",
    "\n",
    "# Load model\n",
    "model_id = \"openai/clip-vit-base-patch32\"\n",
    "processor = AutoProcessor.from_pretrained(model_id)\n",
    "model = AutoModel.from_pretrained(model_id).to(device)\n",
    "model.eval()\n",
    "\n",
    "# Calculate embeddings\n",
    "text_embeddings, image_embeddings, product_ids = calculate_embeddings(df)"
   ]
  }
 ],
 "metadata": {
  "kernelspec": {
   "display_name": "Python [conda env:search]",
   "language": "python",
   "name": "conda-env-search-py"
  },
  "language_info": {
   "codemirror_mode": {
    "name": "ipython",
    "version": 3
   },
   "file_extension": ".py",
   "mimetype": "text/x-python",
   "name": "python",
   "nbconvert_exporter": "python",
   "pygments_lexer": "ipython3",
   "version": "3.11.12"
  }
 },
 "nbformat": 4,
 "nbformat_minor": 4
}
